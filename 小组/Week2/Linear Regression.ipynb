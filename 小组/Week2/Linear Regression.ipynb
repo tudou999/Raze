{
 "cells": [
  {
   "cell_type": "markdown",
   "id": "b696d88e-b133-4041-8a0f-8a7184445585",
   "metadata": {},
   "source": [
    "由上文使用numpy和matplotlib的分析之后得出的图像，发现只有CRIM、RM和LATST与房价线性相关  \n",
    "因此选出CRIM、RM和LATST作为自变量，MEDV作为因变量"
   ]
  },
  {
   "cell_type": "code",
   "execution_count": 1,
   "id": "9f249d08-9a48-4276-be77-8aec0581fec7",
   "metadata": {},
   "outputs": [
    {
     "name": "stderr",
     "output_type": "stream",
     "text": [
      "Matplotlib created a temporary cache directory at C:\\Users\\Raze\\AppData\\Local\\Temp\\matplotlib-a566uh0c because the default path (C:\\Users\\Raze\\.matplotlib) is not a writable directory; it is highly recommended to set the MPLCONFIGDIR environment variable to a writable directory, in particular to speed up the import of Matplotlib and to better support multiprocessing.\n"
     ]
    }
   ],
   "source": [
    "import numpy as np\n",
    "import pandas as pd\n",
    "import matplotlib.pyplot as plt "
   ]
  },
  {
   "cell_type": "code",
   "execution_count": 2,
   "id": "c0f0a513-494f-4e1d-be68-2cbb634adb77",
   "metadata": {},
   "outputs": [],
   "source": [
    "import warnings\n",
    "warnings.filterwarnings('ignore')"
   ]
  },
  {
   "cell_type": "code",
   "execution_count": 3,
   "id": "f674fc84-6fda-4a51-9f5f-740743d70962",
   "metadata": {},
   "outputs": [],
   "source": [
    "df = pd.read_csv('./boston.csv', encoding = 'gbk')"
   ]
  },
  {
   "cell_type": "code",
   "execution_count": 4,
   "id": "9417d6c4-c3ac-4a4b-a084-a3d3c530e496",
   "metadata": {
    "scrolled": true
   },
   "outputs": [
    {
     "data": {
      "text/html": [
       "<div>\n",
       "<style scoped>\n",
       "    .dataframe tbody tr th:only-of-type {\n",
       "        vertical-align: middle;\n",
       "    }\n",
       "\n",
       "    .dataframe tbody tr th {\n",
       "        vertical-align: top;\n",
       "    }\n",
       "\n",
       "    .dataframe thead th {\n",
       "        text-align: right;\n",
       "    }\n",
       "</style>\n",
       "<table border=\"1\" class=\"dataframe\">\n",
       "  <thead>\n",
       "    <tr style=\"text-align: right;\">\n",
       "      <th></th>\n",
       "      <th>CRIM</th>\n",
       "      <th>ZN</th>\n",
       "      <th>INDUS</th>\n",
       "      <th>CHAS</th>\n",
       "      <th>NOX</th>\n",
       "      <th>RM</th>\n",
       "      <th>AGE</th>\n",
       "      <th>DIS</th>\n",
       "      <th>RAD</th>\n",
       "      <th>TAX</th>\n",
       "      <th>PTRATIO</th>\n",
       "      <th>B</th>\n",
       "      <th>LSTAT</th>\n",
       "      <th>MEDV</th>\n",
       "    </tr>\n",
       "  </thead>\n",
       "  <tbody>\n",
       "    <tr>\n",
       "      <th>0</th>\n",
       "      <td>0.00632</td>\n",
       "      <td>18.0</td>\n",
       "      <td>2.31</td>\n",
       "      <td>0</td>\n",
       "      <td>0.538</td>\n",
       "      <td>6.575</td>\n",
       "      <td>65.2</td>\n",
       "      <td>4.0900</td>\n",
       "      <td>1</td>\n",
       "      <td>296.0</td>\n",
       "      <td>15.3</td>\n",
       "      <td>396.90</td>\n",
       "      <td>4.98</td>\n",
       "      <td>24.0</td>\n",
       "    </tr>\n",
       "    <tr>\n",
       "      <th>1</th>\n",
       "      <td>0.02731</td>\n",
       "      <td>0.0</td>\n",
       "      <td>7.07</td>\n",
       "      <td>0</td>\n",
       "      <td>0.469</td>\n",
       "      <td>6.421</td>\n",
       "      <td>78.9</td>\n",
       "      <td>4.9671</td>\n",
       "      <td>2</td>\n",
       "      <td>242.0</td>\n",
       "      <td>17.8</td>\n",
       "      <td>396.90</td>\n",
       "      <td>9.14</td>\n",
       "      <td>21.6</td>\n",
       "    </tr>\n",
       "    <tr>\n",
       "      <th>2</th>\n",
       "      <td>0.02729</td>\n",
       "      <td>0.0</td>\n",
       "      <td>7.07</td>\n",
       "      <td>0</td>\n",
       "      <td>0.469</td>\n",
       "      <td>7.185</td>\n",
       "      <td>61.1</td>\n",
       "      <td>4.9671</td>\n",
       "      <td>2</td>\n",
       "      <td>242.0</td>\n",
       "      <td>17.8</td>\n",
       "      <td>392.83</td>\n",
       "      <td>4.03</td>\n",
       "      <td>34.7</td>\n",
       "    </tr>\n",
       "    <tr>\n",
       "      <th>3</th>\n",
       "      <td>0.03237</td>\n",
       "      <td>0.0</td>\n",
       "      <td>2.18</td>\n",
       "      <td>0</td>\n",
       "      <td>0.458</td>\n",
       "      <td>6.998</td>\n",
       "      <td>45.8</td>\n",
       "      <td>6.0622</td>\n",
       "      <td>3</td>\n",
       "      <td>222.0</td>\n",
       "      <td>18.7</td>\n",
       "      <td>394.63</td>\n",
       "      <td>2.94</td>\n",
       "      <td>33.4</td>\n",
       "    </tr>\n",
       "    <tr>\n",
       "      <th>4</th>\n",
       "      <td>0.06905</td>\n",
       "      <td>0.0</td>\n",
       "      <td>2.18</td>\n",
       "      <td>0</td>\n",
       "      <td>0.458</td>\n",
       "      <td>7.147</td>\n",
       "      <td>54.2</td>\n",
       "      <td>6.0622</td>\n",
       "      <td>3</td>\n",
       "      <td>222.0</td>\n",
       "      <td>18.7</td>\n",
       "      <td>396.90</td>\n",
       "      <td>5.33</td>\n",
       "      <td>36.2</td>\n",
       "    </tr>\n",
       "    <tr>\n",
       "      <th>...</th>\n",
       "      <td>...</td>\n",
       "      <td>...</td>\n",
       "      <td>...</td>\n",
       "      <td>...</td>\n",
       "      <td>...</td>\n",
       "      <td>...</td>\n",
       "      <td>...</td>\n",
       "      <td>...</td>\n",
       "      <td>...</td>\n",
       "      <td>...</td>\n",
       "      <td>...</td>\n",
       "      <td>...</td>\n",
       "      <td>...</td>\n",
       "      <td>...</td>\n",
       "    </tr>\n",
       "    <tr>\n",
       "      <th>501</th>\n",
       "      <td>0.06263</td>\n",
       "      <td>0.0</td>\n",
       "      <td>11.93</td>\n",
       "      <td>0</td>\n",
       "      <td>0.573</td>\n",
       "      <td>6.593</td>\n",
       "      <td>69.1</td>\n",
       "      <td>2.4786</td>\n",
       "      <td>1</td>\n",
       "      <td>273.0</td>\n",
       "      <td>21.0</td>\n",
       "      <td>391.99</td>\n",
       "      <td>9.67</td>\n",
       "      <td>22.4</td>\n",
       "    </tr>\n",
       "    <tr>\n",
       "      <th>502</th>\n",
       "      <td>0.04527</td>\n",
       "      <td>0.0</td>\n",
       "      <td>11.93</td>\n",
       "      <td>0</td>\n",
       "      <td>0.573</td>\n",
       "      <td>6.120</td>\n",
       "      <td>76.7</td>\n",
       "      <td>2.2875</td>\n",
       "      <td>1</td>\n",
       "      <td>273.0</td>\n",
       "      <td>21.0</td>\n",
       "      <td>396.90</td>\n",
       "      <td>9.08</td>\n",
       "      <td>20.6</td>\n",
       "    </tr>\n",
       "    <tr>\n",
       "      <th>503</th>\n",
       "      <td>0.06076</td>\n",
       "      <td>0.0</td>\n",
       "      <td>11.93</td>\n",
       "      <td>0</td>\n",
       "      <td>0.573</td>\n",
       "      <td>6.976</td>\n",
       "      <td>91.0</td>\n",
       "      <td>2.1675</td>\n",
       "      <td>1</td>\n",
       "      <td>273.0</td>\n",
       "      <td>21.0</td>\n",
       "      <td>396.90</td>\n",
       "      <td>5.64</td>\n",
       "      <td>23.9</td>\n",
       "    </tr>\n",
       "    <tr>\n",
       "      <th>504</th>\n",
       "      <td>0.10959</td>\n",
       "      <td>0.0</td>\n",
       "      <td>11.93</td>\n",
       "      <td>0</td>\n",
       "      <td>0.573</td>\n",
       "      <td>6.794</td>\n",
       "      <td>89.3</td>\n",
       "      <td>2.3889</td>\n",
       "      <td>1</td>\n",
       "      <td>273.0</td>\n",
       "      <td>21.0</td>\n",
       "      <td>393.45</td>\n",
       "      <td>6.48</td>\n",
       "      <td>22.0</td>\n",
       "    </tr>\n",
       "    <tr>\n",
       "      <th>505</th>\n",
       "      <td>0.04741</td>\n",
       "      <td>0.0</td>\n",
       "      <td>11.93</td>\n",
       "      <td>0</td>\n",
       "      <td>0.573</td>\n",
       "      <td>6.030</td>\n",
       "      <td>80.8</td>\n",
       "      <td>2.5050</td>\n",
       "      <td>1</td>\n",
       "      <td>273.0</td>\n",
       "      <td>21.0</td>\n",
       "      <td>396.90</td>\n",
       "      <td>7.88</td>\n",
       "      <td>11.9</td>\n",
       "    </tr>\n",
       "  </tbody>\n",
       "</table>\n",
       "<p>506 rows × 14 columns</p>\n",
       "</div>"
      ],
      "text/plain": [
       "        CRIM    ZN  INDUS  CHAS    NOX     RM   AGE     DIS  RAD    TAX  \\\n",
       "0    0.00632  18.0   2.31     0  0.538  6.575  65.2  4.0900    1  296.0   \n",
       "1    0.02731   0.0   7.07     0  0.469  6.421  78.9  4.9671    2  242.0   \n",
       "2    0.02729   0.0   7.07     0  0.469  7.185  61.1  4.9671    2  242.0   \n",
       "3    0.03237   0.0   2.18     0  0.458  6.998  45.8  6.0622    3  222.0   \n",
       "4    0.06905   0.0   2.18     0  0.458  7.147  54.2  6.0622    3  222.0   \n",
       "..       ...   ...    ...   ...    ...    ...   ...     ...  ...    ...   \n",
       "501  0.06263   0.0  11.93     0  0.573  6.593  69.1  2.4786    1  273.0   \n",
       "502  0.04527   0.0  11.93     0  0.573  6.120  76.7  2.2875    1  273.0   \n",
       "503  0.06076   0.0  11.93     0  0.573  6.976  91.0  2.1675    1  273.0   \n",
       "504  0.10959   0.0  11.93     0  0.573  6.794  89.3  2.3889    1  273.0   \n",
       "505  0.04741   0.0  11.93     0  0.573  6.030  80.8  2.5050    1  273.0   \n",
       "\n",
       "     PTRATIO       B  LSTAT  MEDV  \n",
       "0       15.3  396.90   4.98  24.0  \n",
       "1       17.8  396.90   9.14  21.6  \n",
       "2       17.8  392.83   4.03  34.7  \n",
       "3       18.7  394.63   2.94  33.4  \n",
       "4       18.7  396.90   5.33  36.2  \n",
       "..       ...     ...    ...   ...  \n",
       "501     21.0  391.99   9.67  22.4  \n",
       "502     21.0  396.90   9.08  20.6  \n",
       "503     21.0  396.90   5.64  23.9  \n",
       "504     21.0  393.45   6.48  22.0  \n",
       "505     21.0  396.90   7.88  11.9  \n",
       "\n",
       "[506 rows x 14 columns]"
      ]
     },
     "execution_count": 4,
     "metadata": {},
     "output_type": "execute_result"
    }
   ],
   "source": [
    "df"
   ]
  },
  {
   "cell_type": "markdown",
   "id": "c306a45a-2dbf-4e9c-8ff5-501c965807fa",
   "metadata": {},
   "source": [
    "## 进行自变量因变量的划分"
   ]
  },
  {
   "cell_type": "markdown",
   "id": "306f928d-e20f-4735-bc7f-a7b4ae526fd1",
   "metadata": {},
   "source": [
    "去除其他无关特征，只保留这四个变量"
   ]
  },
  {
   "cell_type": "code",
   "execution_count": 5,
   "id": "daf1f1fe-04cd-47a6-ba71-298e96483d38",
   "metadata": {
    "scrolled": true
   },
   "outputs": [
    {
     "data": {
      "text/html": [
       "<div>\n",
       "<style scoped>\n",
       "    .dataframe tbody tr th:only-of-type {\n",
       "        vertical-align: middle;\n",
       "    }\n",
       "\n",
       "    .dataframe tbody tr th {\n",
       "        vertical-align: top;\n",
       "    }\n",
       "\n",
       "    .dataframe thead th {\n",
       "        text-align: right;\n",
       "    }\n",
       "</style>\n",
       "<table border=\"1\" class=\"dataframe\">\n",
       "  <thead>\n",
       "    <tr style=\"text-align: right;\">\n",
       "      <th></th>\n",
       "      <th>CRIM</th>\n",
       "      <th>RM</th>\n",
       "      <th>LSTAT</th>\n",
       "      <th>MEDV</th>\n",
       "    </tr>\n",
       "  </thead>\n",
       "  <tbody>\n",
       "    <tr>\n",
       "      <th>0</th>\n",
       "      <td>0.00632</td>\n",
       "      <td>6.575</td>\n",
       "      <td>4.98</td>\n",
       "      <td>24.0</td>\n",
       "    </tr>\n",
       "    <tr>\n",
       "      <th>1</th>\n",
       "      <td>0.02731</td>\n",
       "      <td>6.421</td>\n",
       "      <td>9.14</td>\n",
       "      <td>21.6</td>\n",
       "    </tr>\n",
       "    <tr>\n",
       "      <th>2</th>\n",
       "      <td>0.02729</td>\n",
       "      <td>7.185</td>\n",
       "      <td>4.03</td>\n",
       "      <td>34.7</td>\n",
       "    </tr>\n",
       "    <tr>\n",
       "      <th>3</th>\n",
       "      <td>0.03237</td>\n",
       "      <td>6.998</td>\n",
       "      <td>2.94</td>\n",
       "      <td>33.4</td>\n",
       "    </tr>\n",
       "    <tr>\n",
       "      <th>4</th>\n",
       "      <td>0.06905</td>\n",
       "      <td>7.147</td>\n",
       "      <td>5.33</td>\n",
       "      <td>36.2</td>\n",
       "    </tr>\n",
       "    <tr>\n",
       "      <th>...</th>\n",
       "      <td>...</td>\n",
       "      <td>...</td>\n",
       "      <td>...</td>\n",
       "      <td>...</td>\n",
       "    </tr>\n",
       "    <tr>\n",
       "      <th>501</th>\n",
       "      <td>0.06263</td>\n",
       "      <td>6.593</td>\n",
       "      <td>9.67</td>\n",
       "      <td>22.4</td>\n",
       "    </tr>\n",
       "    <tr>\n",
       "      <th>502</th>\n",
       "      <td>0.04527</td>\n",
       "      <td>6.120</td>\n",
       "      <td>9.08</td>\n",
       "      <td>20.6</td>\n",
       "    </tr>\n",
       "    <tr>\n",
       "      <th>503</th>\n",
       "      <td>0.06076</td>\n",
       "      <td>6.976</td>\n",
       "      <td>5.64</td>\n",
       "      <td>23.9</td>\n",
       "    </tr>\n",
       "    <tr>\n",
       "      <th>504</th>\n",
       "      <td>0.10959</td>\n",
       "      <td>6.794</td>\n",
       "      <td>6.48</td>\n",
       "      <td>22.0</td>\n",
       "    </tr>\n",
       "    <tr>\n",
       "      <th>505</th>\n",
       "      <td>0.04741</td>\n",
       "      <td>6.030</td>\n",
       "      <td>7.88</td>\n",
       "      <td>11.9</td>\n",
       "    </tr>\n",
       "  </tbody>\n",
       "</table>\n",
       "<p>506 rows × 4 columns</p>\n",
       "</div>"
      ],
      "text/plain": [
       "        CRIM     RM  LSTAT  MEDV\n",
       "0    0.00632  6.575   4.98  24.0\n",
       "1    0.02731  6.421   9.14  21.6\n",
       "2    0.02729  7.185   4.03  34.7\n",
       "3    0.03237  6.998   2.94  33.4\n",
       "4    0.06905  7.147   5.33  36.2\n",
       "..       ...    ...    ...   ...\n",
       "501  0.06263  6.593   9.67  22.4\n",
       "502  0.04527  6.120   9.08  20.6\n",
       "503  0.06076  6.976   5.64  23.9\n",
       "504  0.10959  6.794   6.48  22.0\n",
       "505  0.04741  6.030   7.88  11.9\n",
       "\n",
       "[506 rows x 4 columns]"
      ]
     },
     "execution_count": 5,
     "metadata": {},
     "output_type": "execute_result"
    }
   ],
   "source": [
    "df = df[['CRIM', 'RM', 'LSTAT', 'MEDV']]\n",
    "df"
   ]
  },
  {
   "cell_type": "markdown",
   "id": "6ac074eb-e170-492a-8498-225e33206cbc",
   "metadata": {},
   "source": [
    "## 进行数据集的划分"
   ]
  },
  {
   "cell_type": "markdown",
   "id": "3f83517d-2cb5-462e-a42c-42f4390be872",
   "metadata": {},
   "source": [
    "使用切片以8：2划分训练集与测试集"
   ]
  },
  {
   "cell_type": "code",
   "execution_count": 6,
   "id": "bacb91e6-baa2-477c-b350-ae57c18e9745",
   "metadata": {},
   "outputs": [],
   "source": [
    "ratio = (int)(0.8 * len(df))\n",
    "df_Train = df[:ratio]\n",
    "df_Test = df[ratio:]"
   ]
  },
  {
   "cell_type": "markdown",
   "id": "a8a9f36a-f252-463b-aa4a-28de1da8a88f",
   "metadata": {},
   "source": [
    "给y赋值，用drop函数去除y留下x"
   ]
  },
  {
   "cell_type": "code",
   "execution_count": 7,
   "id": "42d3c214-88b5-47ed-8c05-633b2422a088",
   "metadata": {},
   "outputs": [],
   "source": [
    "y_Train = df_Train['MEDV']\n",
    "y_Test = df_Test['MEDV']"
   ]
  },
  {
   "cell_type": "markdown",
   "id": "3a1cdcac-6394-49b7-a8cf-3811ea494a7c",
   "metadata": {},
   "source": [
    "axis为维度，0表示行，1表示列，此处要去除MEDV整一列"
   ]
  },
  {
   "cell_type": "code",
   "execution_count": 8,
   "id": "fe8ba898-750d-4979-b79d-384cc4f09e51",
   "metadata": {},
   "outputs": [],
   "source": [
    "df_Train.drop(['MEDV'], axis = 1, inplace = True)\n",
    "df_Test.drop(['MEDV'], axis = 1, inplace = True)"
   ]
  },
  {
   "cell_type": "markdown",
   "id": "6b2a8c8c-d205-4516-b229-8d3ad4fd2773",
   "metadata": {},
   "source": [
    "定义自变量x，其中有3个变量：CRIM、RM、LSTAT"
   ]
  },
  {
   "cell_type": "code",
   "execution_count": 9,
   "id": "29275eb8-4216-4c78-97bc-8912d9df5e9f",
   "metadata": {},
   "outputs": [],
   "source": [
    "x_Train = df_Train\n",
    "x_Test = df_Test"
   ]
  },
  {
   "cell_type": "markdown",
   "id": "f0341013-b8ea-4bed-84f5-ed4639d821fd",
   "metadata": {},
   "source": [
    "下面检查划分是否成功"
   ]
  },
  {
   "cell_type": "code",
   "execution_count": 10,
   "id": "1aa2a4b7-a34b-46be-af39-dc1a4ab3f8f2",
   "metadata": {},
   "outputs": [
    {
     "name": "stdout",
     "output_type": "stream",
     "text": [
      "(404, 3) (102,)\n"
     ]
    }
   ],
   "source": [
    "print(x_Train.shape, y_Test.shape)"
   ]
  },
  {
   "cell_type": "markdown",
   "id": "eb81d1a0-84d2-45f3-bd0f-24ab8cb5f47d",
   "metadata": {},
   "source": [
    "## 以下是线性回归的代码"
   ]
  },
  {
   "cell_type": "markdown",
   "id": "8b83918e-b3f0-45c9-9bb5-144288544740",
   "metadata": {},
   "source": [
    "将dataframe转化为array，并将X赋值给X_calculate用于计算"
   ]
  },
  {
   "cell_type": "code",
   "execution_count": 11,
   "id": "a48dcd7b-8c2a-41fe-bb9b-93e4a9eedb9c",
   "metadata": {},
   "outputs": [],
   "source": [
    "y = y_Train.to_numpy()\n",
    "X = x_Train.to_numpy()\n",
    "X_calculate = X"
   ]
  },
  {
   "cell_type": "markdown",
   "id": "d0e9e920-5ae7-4ab3-bb25-dd06c442760c",
   "metadata": {},
   "source": [
    "对每个特征的数据分别做归一化处理，即（数据-均值）/方差  \n",
    "然后将reshape变为二维"
   ]
  },
  {
   "cell_type": "code",
   "execution_count": 12,
   "id": "dcbe97db-2790-4d09-af06-64b8fc76f4cc",
   "metadata": {},
   "outputs": [],
   "source": [
    "for i in range(X_calculate.shape[1]):\n",
    "    mu = np.average(X_calculate[:,i])\n",
    "    sigma = np.std(X_calculate[:,i])\n",
    "    X_calculate[:,i] = (X_calculate[:,i] - mu)/sigma"
   ]
  },
  {
   "cell_type": "code",
   "execution_count": 13,
   "id": "f6f68c8c-942a-4c48-8f44-335cd51f954b",
   "metadata": {},
   "outputs": [],
   "source": [
    "X_calculate = X_calculate.reshape(404, 3)"
   ]
  },
  {
   "cell_type": "markdown",
   "id": "f62a8396-4d8d-4481-869a-2ffe12519864",
   "metadata": {},
   "source": [
    "此处是创建一个全为1的数组并添加，便于矩阵运算"
   ]
  },
  {
   "cell_type": "code",
   "execution_count": 14,
   "id": "69f19007-9d52-496a-b885-58e2befe4ea3",
   "metadata": {},
   "outputs": [
    {
     "data": {
      "text/plain": [
       "(404, 1)"
      ]
     },
     "execution_count": 14,
     "metadata": {},
     "output_type": "execute_result"
    }
   ],
   "source": [
    "a = np.ones(X_calculate.shape[0]).reshape(-1, 1)\n",
    "a.shape"
   ]
  },
  {
   "cell_type": "markdown",
   "id": "c528cab8-dd5d-4694-b832-154ded0792de",
   "metadata": {},
   "source": [
    "将两个数组拼接在一起"
   ]
  },
  {
   "cell_type": "code",
   "execution_count": 15,
   "id": "4f5429ff-510a-4906-92e4-4642ed68ab4a",
   "metadata": {},
   "outputs": [],
   "source": [
    "X_calculate = np.concatenate((a, X_calculate), axis = 1)"
   ]
  },
  {
   "cell_type": "markdown",
   "id": "ea2db652-5b87-405c-a9a9-7c0ae21292dd",
   "metadata": {},
   "source": [
    "检查数组的shape"
   ]
  },
  {
   "cell_type": "code",
   "execution_count": 16,
   "id": "83e8a41e-fba2-40d4-90f4-bbf9d5025778",
   "metadata": {},
   "outputs": [
    {
     "data": {
      "text/plain": [
       "(404, 4)"
      ]
     },
     "execution_count": 16,
     "metadata": {},
     "output_type": "execute_result"
    }
   ],
   "source": [
    "X_calculate.shape"
   ]
  },
  {
   "cell_type": "markdown",
   "id": "f01e0484-6aba-4c94-90f6-891011212c81",
   "metadata": {},
   "source": [
    "m表示样本的总个数，n表示特征的个数"
   ]
  },
  {
   "cell_type": "code",
   "execution_count": 17,
   "id": "dccf3eac-e350-4850-ac92-71b134d0ea42",
   "metadata": {},
   "outputs": [],
   "source": [
    "m = X_calculate.shape[0]\n",
    "n = X_calculate.shape[1]"
   ]
  },
  {
   "cell_type": "markdown",
   "id": "2b8fa90a-40fc-459a-a53d-f9c365a4ac3e",
   "metadata": {},
   "source": [
    "定义学习率（步长）与循环迭代次数  \n",
    "并从0到1中随机选取theta作为初始值，以追求拟合结果的准确性"
   ]
  },
  {
   "cell_type": "code",
   "execution_count": 18,
   "id": "fbff4857-772d-443c-84fb-920d5fadbf29",
   "metadata": {},
   "outputs": [],
   "source": [
    "alpha = 0.001\n",
    "times = 1000\n",
    "theta = np.random.uniform(0, 1, [1, X_calculate.shape[1]])\n",
    "theta = theta.reshape(-1, 1)"
   ]
  },
  {
   "cell_type": "markdown",
   "id": "c20d4df9-849b-4dab-82d6-8e15714f4b73",
   "metadata": {},
   "source": [
    "使用梯度下降法对三个自变量的theta进行迭代计算，最终拟合出**每个自变量对应的theta**的值"
   ]
  },
  {
   "cell_type": "code",
   "execution_count": 19,
   "id": "c9b42f84-b3da-43ea-bc38-4b32e5688ef9",
   "metadata": {},
   "outputs": [],
   "source": [
    "for num in range(times):\n",
    "    for j in range(n):\n",
    "        theta[j] = theta[j] + (alpha/m)*(np.sum((y- np.dot(X_calculate, theta))* X_calculate[:,j].reshape(-1, 1)))"
   ]
  },
  {
   "cell_type": "code",
   "execution_count": 20,
   "id": "d8a1e01c-27c4-4908-af7a-3f7f5d46436e",
   "metadata": {},
   "outputs": [
    {
     "data": {
      "text/plain": [
       "array([[ 2.41757426e+01],\n",
       "       [-8.48341054e-17],\n",
       "       [ 4.57996841e-16],\n",
       "       [ 2.37765197e-16]])"
      ]
     },
     "execution_count": 20,
     "metadata": {},
     "output_type": "execute_result"
    }
   ],
   "source": [
    "theta"
   ]
  },
  {
   "cell_type": "markdown",
   "id": "e5832f18-ffe6-4d81-b590-fa0ea229423a",
   "metadata": {},
   "source": [
    "将X进行转置（X不含有添加列，只有三个自变量）"
   ]
  },
  {
   "cell_type": "markdown",
   "id": "e428dae2-dec8-4e97-8954-cb3cff2366a4",
   "metadata": {},
   "source": [
    "将x，y更新为测试集的数据"
   ]
  },
  {
   "cell_type": "code",
   "execution_count": 21,
   "id": "8fa70cd8-1211-43e4-83d8-94a3029ccca0",
   "metadata": {},
   "outputs": [],
   "source": [
    "y = y_Test.to_numpy()\n",
    "X = x_Test.to_numpy()"
   ]
  },
  {
   "cell_type": "code",
   "execution_count": 22,
   "id": "2db48981-a10f-4e7b-ba0c-082b705f587b",
   "metadata": {},
   "outputs": [],
   "source": [
    "X = X.transpose()"
   ]
  },
  {
   "cell_type": "markdown",
   "id": "46d43a88-541a-4773-8528-9041d28a2555",
   "metadata": {},
   "source": [
    "得到预测数值矩阵y_Test_rediction"
   ]
  },
  {
   "cell_type": "code",
   "execution_count": 23,
   "id": "af3d9171-00c8-4430-b2eb-2cec8038ce32",
   "metadata": {},
   "outputs": [],
   "source": [
    "y_Test_rediction = theta[0] + theta[1]* X[0] + theta[2] * X[1] + theta[3] * X[2] "
   ]
  },
  {
   "cell_type": "markdown",
   "id": "cb90f732-c94f-4510-aee3-293cbbc5a424",
   "metadata": {},
   "source": [
    "用损失函数计算其MSE"
   ]
  },
  {
   "cell_type": "code",
   "execution_count": 24,
   "id": "751982f2-890c-4181-9eaf-96097f453515",
   "metadata": {},
   "outputs": [
    {
     "data": {
      "text/plain": [
       "93.31498368575947"
      ]
     },
     "execution_count": 24,
     "metadata": {},
     "output_type": "execute_result"
    }
   ],
   "source": [
    "LOSS2 = y - y_Test_rediction\n",
    "np.sum(np.power(LOSS2, 2))/len(y)"
   ]
  },
  {
   "cell_type": "markdown",
   "id": "ee2751ef-56b0-4243-9573-efa55b27ea6d",
   "metadata": {},
   "source": [
    "经过对学习率和迭代次数的反复调试后，发现这时候MSE最低（总感觉哪里有问题，但是实在是找不到了，核对了梯度下降的公式好像也没错T_T）"
   ]
  },
  {
   "cell_type": "markdown",
   "id": "f0f7fe0b-ec48-47ee-963d-f7dbc3c39e81",
   "metadata": {},
   "source": [
    "感觉样本量比较大，好像用别的损失函数会比较好？"
   ]
  }
 ],
 "metadata": {
  "kernelspec": {
   "display_name": "Python 3 (ipykernel)",
   "language": "python",
   "name": "python3"
  },
  "language_info": {
   "codemirror_mode": {
    "name": "ipython",
    "version": 3
   },
   "file_extension": ".py",
   "mimetype": "text/x-python",
   "name": "python",
   "nbconvert_exporter": "python",
   "pygments_lexer": "ipython3",
   "version": "3.8.0"
  }
 },
 "nbformat": 4,
 "nbformat_minor": 5
}
